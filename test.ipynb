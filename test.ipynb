{
 "cells": [
  {
   "cell_type": "code",
   "execution_count": 9,
   "metadata": {},
   "outputs": [
    {
     "data": {
      "text/plain": [
       "[0, 0, 1, 0, 0, 2, 0]"
      ]
     },
     "execution_count": 9,
     "metadata": {},
     "output_type": "execute_result"
    }
   ],
   "source": [
    "import re\n",
    "import numpy as np\n",
    "rows = []\n",
    "d= [\"hello is not there\",\"hello like to be there forever\"]\n",
    "def extaction_of_words(line):\n",
    "    ignored_words = [\"is\",\"a\",\"an\",\"was\",\"were\",\"you\",\"he\",\"she\",\"it\"]\n",
    "    splitted = re.sub(\"[+w]\",\" \",line).split()\n",
    "    keep_words = [word.lower() for word in splitted if word not in ignored_words]\n",
    "    return keep_words\n",
    "\n",
    "all_features= set()\n",
    "for each in d:\n",
    "    words = set(extaction_of_words(each))\n",
    "    all_features|=words\n",
    "all_features = sorted(list(all_features))\n",
    "\n",
    "def calculate_beg_of_words(new_line,all_features):\n",
    "    new_words = extaction_of_words(new_line)\n",
    "    expected_array = [0]*len(all_features)\n",
    "    for each_new_word in new_words:\n",
    "        expected_array[all_features.index(each_new_word)]+=1\n",
    "        \n",
    "    return (expected_array)\n",
    "s = calculate_beg_of_words(\"hello there there \",all_features)   \n",
    "s"
   ]
  },
  {
   "cell_type": "code",
   "execution_count": 10,
   "metadata": {},
   "outputs": [
    {
     "data": {
      "text/html": [
       "<div>\n",
       "<style scoped>\n",
       "    .dataframe tbody tr th:only-of-type {\n",
       "        vertical-align: middle;\n",
       "    }\n",
       "\n",
       "    .dataframe tbody tr th {\n",
       "        vertical-align: top;\n",
       "    }\n",
       "\n",
       "    .dataframe thead th {\n",
       "        text-align: right;\n",
       "    }\n",
       "</style>\n",
       "<table border=\"1\" class=\"dataframe\">\n",
       "  <thead>\n",
       "    <tr style=\"text-align: right;\">\n",
       "      <th></th>\n",
       "      <th>be</th>\n",
       "      <th>forever</th>\n",
       "      <th>hello</th>\n",
       "      <th>like</th>\n",
       "      <th>not</th>\n",
       "      <th>there</th>\n",
       "      <th>to</th>\n",
       "    </tr>\n",
       "  </thead>\n",
       "  <tbody>\n",
       "    <tr>\n",
       "      <th>0</th>\n",
       "      <td>0</td>\n",
       "      <td>0</td>\n",
       "      <td>1</td>\n",
       "      <td>0</td>\n",
       "      <td>0</td>\n",
       "      <td>2</td>\n",
       "      <td>0</td>\n",
       "    </tr>\n",
       "  </tbody>\n",
       "</table>\n",
       "</div>"
      ],
      "text/plain": [
       "   be  forever  hello  like  not  there  to\n",
       "0   0        0      1     0    0      2   0"
      ]
     },
     "execution_count": 10,
     "metadata": {},
     "output_type": "execute_result"
    }
   ],
   "source": [
    "import pandas as pd\n",
    "pd.DataFrame([s],columns=all_features)"
   ]
  },
  {
   "cell_type": "code",
   "execution_count": 2,
   "metadata": {},
   "outputs": [
    {
     "name": "stdout",
     "output_type": "stream",
     "text": [
      "[[[8], [5]], [[7], [9]], [[2], [6]], [[4], [1]]]\n"
     ]
    }
   ],
   "source": [
    "# cross_validation\n",
    "from random import seed\n",
    "from random import randrange\n",
    "def cross_validation(dataset,fold):\n",
    "    new_folded_data = []\n",
    "    fold_size = int(len(dataset)/fold)\n",
    "#     print(fold_size,len(dataset))\n",
    "    stack = list(dataset)\n",
    "    for each_fold in range(fold):\n",
    "        fold_list = []\n",
    "        for i in range(fold_size):\n",
    "            random_index = randrange(len(stack))\n",
    "            poped_row = stack.pop(random_index)\n",
    "            fold_list.append(poped_row)\n",
    "        new_folded_data.append(fold_list)\n",
    "    return new_folded_data\n",
    "seed(50)\n",
    "dataset = [[1], [2], [3], [4], [5], [6], [7], [8], [9], [10]]\n",
    "folds = cross_validation(dataset, 4)\n",
    "print(folds)"
   ]
  },
  {
   "cell_type": "code",
   "execution_count": 24,
   "metadata": {},
   "outputs": [
    {
     "name": "stdout",
     "output_type": "stream",
     "text": [
      "0 0\n",
      "1 0\n",
      "0 1\n",
      "1 1\n",
      "0 2\n",
      "1 2\n",
      "0 3\n",
      "1 3\n",
      "[[[10], [5]], [[7], [9]], [[8], [6]], [[1], [3]]]\n"
     ]
    }
   ],
   "source": [
    "from random import seed\n",
    "from random import randrange\n",
    "def cross_validation(dataset,fold):\n",
    "    new_folded_data = []\n",
    "    fold_size = int(len(dataset)/fold)\n",
    "#     print(fold_size,len(dataset))\n",
    "    stack = list(dataset)\n",
    "    for each_fold in range(fold):\n",
    "        fold_list = []\n",
    "        for i in range(fold_size):\n",
    "            print(i,each_fold)\n",
    "            random_index = randrange(len(stack))\n",
    "            poped_row = stack.pop(random_index)\n",
    "            fold_list.append(poped_row)\n",
    "        new_folded_data.append(fold_list)\n",
    "    return new_folded_data\n",
    "seed(5)\n",
    "dataset = [[1], [2], [3], [4], [5], [6], [7], [8], [9], [10]]\n",
    "folds = cross_validation(dataset, 4)\n",
    "print(folds)"
   ]
  },
  {
   "cell_type": "code",
   "execution_count": 6,
   "metadata": {},
   "outputs": [
    {
     "data": {
      "text/plain": [
       "[3.0,\n",
       " 8.0,\n",
       " 13.0,\n",
       " 18.0,\n",
       " 23.0,\n",
       " 28.0,\n",
       " 33.0,\n",
       " 38.0,\n",
       " 43.0,\n",
       " 48.0,\n",
       " 53.0,\n",
       " 58.0,\n",
       " 63.0,\n",
       " 68.0,\n",
       " 73.0,\n",
       " 78.0,\n",
       " 83.0,\n",
       " 88.0,\n",
       " 93.0,\n",
       " 98.0]"
      ]
     },
     "execution_count": 6,
     "metadata": {},
     "output_type": "execute_result"
    }
   ],
   "source": [
    "import numpy as np\n",
    "ar = list(range(1,101))\n",
    "def compress_to_this(ar,compressed_length):\n",
    "    each_small_arr = int(len(ar)/compressed_length)\n",
    "    ar_compressed = []\n",
    "    counter=0\n",
    "    for i in range(0,len(ar),each_small_arr):\n",
    "        ar_compressed.append(np.mean(ar[i:i+each_small_arr]))\n",
    "    return ar_compressed\n",
    "compress_to_this(ar,20)"
   ]
  },
  {
   "cell_type": "code",
   "execution_count": null,
   "metadata": {},
   "outputs": [],
   "source": []
  }
 ],
 "metadata": {
  "kernelspec": {
   "display_name": "Python 3",
   "language": "python",
   "name": "python3"
  },
  "language_info": {
   "codemirror_mode": {
    "name": "ipython",
    "version": 3
   },
   "file_extension": ".py",
   "mimetype": "text/x-python",
   "name": "python",
   "nbconvert_exporter": "python",
   "pygments_lexer": "ipython3",
   "version": "3.6.5"
  }
 },
 "nbformat": 4,
 "nbformat_minor": 2
}
